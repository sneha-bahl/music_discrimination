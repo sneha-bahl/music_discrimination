{
  "nbformat": 4,
  "nbformat_minor": 0,
  "metadata": {
    "kernelspec": {
      "display_name": "Python 3",
      "language": "python",
      "name": "python3"
    },
    "language_info": {
      "codemirror_mode": {
        "name": "ipython",
        "version": 3
      },
      "file_extension": ".py",
      "mimetype": "text/x-python",
      "name": "python",
      "nbconvert_exporter": "python",
      "pygments_lexer": "ipython3",
      "version": "3.6.4"
    },
    "colab": {
      "name": "midi_classifier.ipynb",
      "provenance": [],
      "collapsed_sections": [],
      "machine_shape": "hm"
    }
  },
  "cells": [
    {
      "cell_type": "code",
      "metadata": {
        "colab": {
          "base_uri": "https://localhost:8080/"
        },
        "id": "R-T_2LA7uB3J",
        "outputId": "0071c8ef-12d5-4c01-b44b-b557919e7025"
      },
      "source": [
        "### install libraries\n",
        "!pip install pretty_midi\n",
        "!pip install scikit-learn"
      ],
      "execution_count": 1,
      "outputs": [
        {
          "output_type": "stream",
          "name": "stdout",
          "text": [
            "Collecting pretty_midi\n",
            "  Downloading pretty_midi-0.2.9.tar.gz (5.6 MB)\n",
            "\u001b[K     |████████████████████████████████| 5.6 MB 4.1 MB/s \n",
            "\u001b[?25hRequirement already satisfied: numpy>=1.7.0 in /usr/local/lib/python3.7/dist-packages (from pretty_midi) (1.19.5)\n",
            "Collecting mido>=1.1.16\n",
            "  Downloading mido-1.2.10-py2.py3-none-any.whl (51 kB)\n",
            "\u001b[K     |████████████████████████████████| 51 kB 6.3 MB/s \n",
            "\u001b[?25hRequirement already satisfied: six in /usr/local/lib/python3.7/dist-packages (from pretty_midi) (1.15.0)\n",
            "Building wheels for collected packages: pretty-midi\n",
            "  Building wheel for pretty-midi (setup.py) ... \u001b[?25l\u001b[?25hdone\n",
            "  Created wheel for pretty-midi: filename=pretty_midi-0.2.9-py3-none-any.whl size=5591953 sha256=f88011b4f5f983744cb68119a2a4e11258d799a331888a404a7b8a93f1b8b079\n",
            "  Stored in directory: /root/.cache/pip/wheels/ad/74/7c/a06473ca8dcb63efb98c1e67667ce39d52100f837835ea18fa\n",
            "Successfully built pretty-midi\n",
            "Installing collected packages: mido, pretty-midi\n",
            "Successfully installed mido-1.2.10 pretty-midi-0.2.9\n",
            "Requirement already satisfied: scikit-learn in /usr/local/lib/python3.7/dist-packages (1.0.1)\n",
            "Requirement already satisfied: joblib>=0.11 in /usr/local/lib/python3.7/dist-packages (from scikit-learn) (1.1.0)\n",
            "Requirement already satisfied: numpy>=1.14.6 in /usr/local/lib/python3.7/dist-packages (from scikit-learn) (1.19.5)\n",
            "Requirement already satisfied: threadpoolctl>=2.0.0 in /usr/local/lib/python3.7/dist-packages (from scikit-learn) (3.0.0)\n",
            "Requirement already satisfied: scipy>=1.1.0 in /usr/local/lib/python3.7/dist-packages (from scikit-learn) (1.4.1)\n"
          ]
        }
      ]
    },
    {
      "cell_type": "code",
      "metadata": {
        "colab": {
          "base_uri": "https://localhost:8080/"
        },
        "id": "MXAUxkm6uIxf",
        "outputId": "09e6a81b-7dff-4160-cf45-6bb0bf08ba26"
      },
      "source": [
        "### mount drive\n",
        "from google.colab import drive\n",
        "drive.mount('drive')"
      ],
      "execution_count": 2,
      "outputs": [
        {
          "output_type": "stream",
          "name": "stdout",
          "text": [
            "Mounted at drive\n"
          ]
        }
      ]
    },
    {
      "cell_type": "code",
      "metadata": {
        "id": "7N-ZXPOIt918"
      },
      "source": [
        "### import libraries\n",
        "import numpy as np\n",
        "import pandas as pd\n",
        "from sklearn.neural_network import MLPClassifier\n",
        "from sklearn.svm import SVC\n",
        "import pretty_midi\n",
        "import os\n",
        "from sklearn.neighbors import KNeighborsClassifier\n",
        "from sklearn.tree import DecisionTreeClassifier\n",
        "import warnings\n",
        "warnings.filterwarnings('ignore')"
      ],
      "execution_count": 19,
      "outputs": []
    },
    {
      "cell_type": "code",
      "metadata": {
        "id": "IHIYDu7jt91-"
      },
      "source": [
        "##### Function to get all the midi file paths in a directory in a dataframe.\n",
        "def get_midi_paths(midi_folder):\n",
        "\n",
        "    file_paths = []\n",
        "    for dir_name, subdir_list, file_list in os.walk(midi_folder):\n",
        "        file_path_list = [\"/\".join([dir_name, file]) for file in file_list]\n",
        "        for file_path in file_path_list:\n",
        "            file_paths.append(file_path)\n",
        "    df = pd.DataFrame({\"Path\": file_paths})\n",
        "    return df\n"
      ],
      "execution_count": 4,
      "outputs": []
    },
    {
      "cell_type": "code",
      "metadata": {
        "id": "E9nUCEHmVNHu",
        "colab": {
          "base_uri": "https://localhost:8080/"
        },
        "outputId": "caf043ec-cf21-4b59-89e8-9ea3ed727948"
      },
      "source": [
        "## get the paths for the generate midi files\n",
        "midi_path_gen = \"//content/drive/MyDrive/music_data/midi/generated_midi\"\n",
        "gen_midi_df = get_midi_paths(midi_path_gen)\n",
        "print(gen_midi_df.size)\n",
        "print(gen_midi_df.head())\n"
      ],
      "execution_count": 7,
      "outputs": [
        {
          "output_type": "stream",
          "name": "stdout",
          "text": [
            "1600\n",
            "                                                Path\n",
            "0  //content/drive/MyDrive/music_data/midi/genera...\n",
            "1  //content/drive/MyDrive/music_data/midi/genera...\n",
            "2  //content/drive/MyDrive/music_data/midi/genera...\n",
            "3  //content/drive/MyDrive/music_data/midi/genera...\n",
            "4  //content/drive/MyDrive/music_data/midi/genera...\n"
          ]
        }
      ]
    },
    {
      "cell_type": "code",
      "metadata": {
        "colab": {
          "base_uri": "https://localhost:8080/"
        },
        "id": "j_o2Oqf5VOKO",
        "outputId": "90bc697e-4b8a-47eb-b1b2-7aa3cb4bdf38"
      },
      "source": [
        "## get the paths for the original or real music midi files\n",
        "midi_path_og = \"/content/drive/MyDrive/music_data/midi/adl_piano\"\n",
        "og_midi_df = get_midi_paths(midi_path_og)\n",
        "print(og_midi_df.size)\n",
        "print(og_midi_df.head())\n"
      ],
      "execution_count": 12,
      "outputs": [
        {
          "output_type": "stream",
          "name": "stdout",
          "text": [
            "1668\n",
            "                                                Path\n",
            "0  /content/drive/MyDrive/music_data/midi/adl_pia...\n",
            "1  /content/drive/MyDrive/music_data/midi/adl_pia...\n",
            "2  /content/drive/MyDrive/music_data/midi/adl_pia...\n",
            "3  /content/drive/MyDrive/music_data/midi/adl_pia...\n",
            "4  /content/drive/MyDrive/music_data/midi/adl_pia...\n"
          ]
        }
      ]
    },
    {
      "cell_type": "code",
      "metadata": {
        "scrolled": true,
        "id": "U-eFQnGyt91_"
      },
      "source": [
        "### FEATURE EXTRACTION\n",
        "\n",
        "## function to normalize features\n",
        "def normalize_features(features):\n",
        "\n",
        "    tempo = (features[0] - 150) / 300\n",
        "    num_sig_changes = (features[1] - 2) / 10\n",
        "    resolution = (features[2] - 260) / 400\n",
        "    time_sig_1 = (features[3] - 3) / 8\n",
        "    time_sig_2 = (features[4] - 3) / 8\n",
        "    return [tempo, resolution, time_sig_1, time_sig_2]\n",
        "\n",
        "### extracting featres\n",
        "def get_features(path):\n",
        "    try:\n",
        "        # Test for Corrupted Midi Files\n",
        "        with warnings.catch_warnings():\n",
        "            warnings.simplefilter(\"error\")\n",
        "            file = pretty_midi.PrettyMIDI(path)\n",
        "            \n",
        "            tempo = file.estimate_tempo()\n",
        "            num_sig_changes = len(file.time_signature_changes)\n",
        "            resolution = file.resolution\n",
        "            ts_changes = file.time_signature_changes\n",
        "            ts_1 = 4\n",
        "            ts_2 = 4\n",
        "            if len(ts_changes) > 0:\n",
        "                ts_1 = ts_changes[0].numerator\n",
        "                ts_2 = ts_changes[0].denominator\n",
        "            return normalize_features([tempo, num_sig_changes, resolution, ts_1, ts_2])\n",
        "    except:\n",
        "        return None\n",
        "\n",
        "### function to traverse the whole dataframe to get all the features for all the midi files\n",
        "def extract_midi_features(path_df):\n",
        "    all_features = []\n",
        "    for index, row in path_df.iterrows():\n",
        "        features = get_features(row.Path)\n",
        "        if features is not None:\n",
        "            all_features.append(features)\n",
        "    return np.array(all_features)\n",
        "\n"
      ],
      "execution_count": 8,
      "outputs": []
    },
    {
      "cell_type": "code",
      "metadata": {
        "colab": {
          "base_uri": "https://localhost:8080/"
        },
        "id": "xaT8T7atVbYe",
        "outputId": "2e185182-963b-43ad-a920-33c5901c2f36"
      },
      "source": [
        "## extracting features for generated files\n",
        "gen_features = extract_midi_features(gen_midi_df)\n",
        "print(gen_features)"
      ],
      "execution_count": 9,
      "outputs": [
        {
          "output_type": "stream",
          "name": "stdout",
          "text": [
            "[[-0.34722222 -0.1         0.125       0.125     ]\n",
            " [ 0.13520267 -0.1         0.125       0.125     ]\n",
            " [ 0.17822736 -0.1         0.125       0.125     ]\n",
            " ...\n",
            " [ 0.12775616 -0.1         0.125       0.125     ]\n",
            " [-0.05502677 -0.1         0.125       0.125     ]\n",
            " [-0.06489493 -0.1         0.125       0.125     ]]\n"
          ]
        }
      ]
    },
    {
      "cell_type": "code",
      "metadata": {
        "colab": {
          "base_uri": "https://localhost:8080/"
        },
        "id": "BpTe412MifnS",
        "outputId": "8a40171f-339e-4c71-be8a-6d974cfc8d6e"
      },
      "source": [
        "#### ADDING label = 0 to the generated music data points\n",
        "#print(gen_midi_df.shape)\n",
        "label_gen = np.zeros((gen_features.shape[0], 1))\n",
        "print(label_gen.shape)\n",
        "print(gen_features.shape)\n",
        "gen_feat = np.append(gen_features, label_gen, axis =1)\n",
        "print(gen_feat.shape)"
      ],
      "execution_count": 10,
      "outputs": [
        {
          "output_type": "stream",
          "name": "stdout",
          "text": [
            "(1599, 1)\n",
            "(1599, 4)\n",
            "(1599, 5)\n"
          ]
        }
      ]
    },
    {
      "cell_type": "code",
      "metadata": {
        "colab": {
          "base_uri": "https://localhost:8080/"
        },
        "id": "ghBjbae1dtbS",
        "outputId": "1d22cef3-8766-4c77-8c69-05b838b3f854"
      },
      "source": [
        "## extracting features for real music files\n",
        "og_features = extract_midi_features(og_midi_df)\n",
        "print(og_features)"
      ],
      "execution_count": 13,
      "outputs": [
        {
          "output_type": "stream",
          "name": "stdout",
          "text": [
            "[[-0.06515116 -0.35        0.625       0.125     ]\n",
            " [ 0.14770241 -0.05        0.125       0.125     ]\n",
            " [ 0.1046981  -0.35        0.125       0.125     ]\n",
            " ...\n",
            " [ 0.00224215 -0.41        0.125       0.125     ]\n",
            " [ 0.18500032 -0.17        0.125       0.125     ]\n",
            " [ 0.03631285  0.31        0.125       0.125     ]]\n"
          ]
        }
      ]
    },
    {
      "cell_type": "code",
      "metadata": {
        "colab": {
          "base_uri": "https://localhost:8080/"
        },
        "id": "O5DFoZQsh-Dx",
        "outputId": "0e269f46-121f-472f-b3d9-b0d4049d632a"
      },
      "source": [
        "#### ADDING label = 0 to the greal music data points\n",
        "label_og = np.ones((og_features.shape[0], 1))\n",
        "print(label_og.shape)\n",
        "print(og_features.shape)\n",
        "og_feat = np.append(og_features, label_og, axis =1)\n",
        "print(og_feat.shape)"
      ],
      "execution_count": 14,
      "outputs": [
        {
          "output_type": "stream",
          "name": "stdout",
          "text": [
            "(1631, 1)\n",
            "(1631, 4)\n",
            "(1631, 5)\n"
          ]
        }
      ]
    },
    {
      "cell_type": "code",
      "metadata": {
        "colab": {
          "base_uri": "https://localhost:8080/"
        },
        "id": "2yhvVysRkddE",
        "outputId": "7b60723f-c06e-4f85-cac6-fac8c2c49142"
      },
      "source": [
        "### appending both to get a single df\n",
        "df_c = np.append(og_feat, gen_feat, axis = 0)\n",
        "print(df_c.shape)"
      ],
      "execution_count": 15,
      "outputs": [
        {
          "output_type": "stream",
          "name": "stdout",
          "text": [
            "(3230, 5)\n"
          ]
        }
      ]
    },
    {
      "cell_type": "code",
      "metadata": {
        "colab": {
          "base_uri": "https://localhost:8080/"
        },
        "id": "E5zVUhIMk7R2",
        "outputId": "67576afc-fb46-4613-ebd1-d93ad4e25da5"
      },
      "source": [
        "#shuffling to mix up the samples\n",
        "df_c = np.random.permutation(df_c)\n",
        "df_c"
      ],
      "execution_count": 16,
      "outputs": [
        {
          "output_type": "execute_result",
          "data": {
            "text/plain": [
              "array([[ 0.05841732, -0.1       ,  0.125     ,  0.125     ,  0.        ],\n",
              "       [ 0.02747253, -0.1       ,  0.125     ,  0.125     ,  0.        ],\n",
              "       [ 0.12278839, -0.1       ,  0.125     ,  0.125     ,  0.        ],\n",
              "       ...,\n",
              "       [ 0.24105263, -0.1       ,  0.125     ,  0.125     ,  0.        ],\n",
              "       [ 0.07894737, -0.1       ,  0.125     ,  0.125     ,  0.        ],\n",
              "       [-0.0210596 , -0.35      ,  0.125     ,  0.125     ,  1.        ]])"
            ]
          },
          "metadata": {},
          "execution_count": 16
        }
      ]
    },
    {
      "cell_type": "code",
      "metadata": {
        "scrolled": false,
        "colab": {
          "base_uri": "https://localhost:8080/"
        },
        "id": "5KJ6t0jqt92A",
        "outputId": "974a1d1a-e3ee-4de3-9f4a-fffbd50bdbb4"
      },
      "source": [
        "\n",
        "# SPLITTING the df into 3 parts\n",
        "num = len(df_c)\n",
        "num_training = int(num * 0.6)\n",
        "num_validation = int(num * 0.8)\n",
        "training_data = df_c[:num_training]\n",
        "validation_data =  df_c[num_training:num_validation]\n",
        "test_data =  df_c[num_validation:]\n",
        "\n",
        "# Separating features and labels\n",
        "num_cols = training_data.shape[1] - 1\n",
        "training_features = training_data[:, :num_cols]\n",
        "validation_features = validation_data[:, :num_cols]\n",
        "test_features = test_data[:, :num_cols]\n",
        "\n",
        "# formatting features\n",
        "num_classes = 2\n",
        "training_labels = training_data[:, num_cols].astype(int)\n",
        "validation_labels = validation_data[:, num_cols].astype(int)\n",
        "test_labels = test_data[:, num_cols].astype(int)\n",
        "\n",
        "\n",
        "print(test_features[:10])\n",
        "print(test_labels[:10])"
      ],
      "execution_count": 17,
      "outputs": [
        {
          "output_type": "stream",
          "name": "stdout",
          "text": [
            "[[-0.06666667 -0.01       -0.125       0.125     ]\n",
            " [-0.08107706 -0.1         0.125       0.125     ]\n",
            " [ 0.1        -0.01        0.          0.125     ]\n",
            " [ 0.25495979 -0.1         0.125       0.125     ]\n",
            " [-0.27943844  0.31        0.125       0.125     ]\n",
            " [-0.01020408 -0.1         0.125       0.125     ]\n",
            " [ 0.16666667 -0.01        0.125       0.125     ]\n",
            " [ 0.1547619  -0.1         0.125       0.125     ]\n",
            " [ 0.22781745  0.55       -0.125       0.125     ]\n",
            " [ 0.0312843  -0.1         0.125       0.125     ]]\n",
            "[1 0 1 0 1 0 1 0 1 0]\n"
          ]
        }
      ]
    },
    {
      "cell_type": "code",
      "metadata": {
        "id": "ipEaaGueystT"
      },
      "source": [
        ""
      ],
      "execution_count": 15,
      "outputs": []
    },
    {
      "cell_type": "markdown",
      "metadata": {
        "id": "VsSIZo09nUPj"
      },
      "source": [
        "TRAIN MODELS"
      ]
    },
    {
      "cell_type": "code",
      "metadata": {
        "colab": {
          "base_uri": "https://localhost:8080/"
        },
        "id": "SSoQPkJkt92B",
        "outputId": "9c4d0143-d7de-465b-9858-43774b42b877"
      },
      "source": [
        "#####Train multiple models and choose the one that gives the best results. We can also comment out the classifiers to see the individual performance.\n",
        "\n",
        "def train_model(t_features, t_labels, v_features, v_labels):\n",
        "\n",
        "    # Neural Network and SVM Configurations\n",
        "    clf_1 = MLPClassifier(solver='adam', alpha=1e-4, hidden_layer_sizes=(5,), random_state=1)\n",
        "    clf_2 = MLPClassifier(solver='adam', alpha=1e-4, hidden_layer_sizes=(5, 5), random_state=1)\n",
        "    clf_3 = MLPClassifier(solver='adam', alpha=1e-5, hidden_layer_sizes=(10, 10), random_state=1)\n",
        "    clf_4 = KNeighborsClassifier(n_neighbors=3)\n",
        "    clf_5 = KNeighborsClassifier(n_neighbors=5)\n",
        "    clf_6 = DecisionTreeClassifier(max_depth=1)\n",
        "\n",
        "    clf_svm = SVC()\n",
        "    \n",
        "    \n",
        "    # Keep Track of the Best Model\n",
        "    best_clf = None\n",
        "    best_accuracy = 0\n",
        "    \n",
        "    # Test the Accuracies of the Models and Get Best\n",
        "    for clf in [clf_1, clf_2, clf_3, clf_4, clf_5, clf_6, clf_svm]:\n",
        "  \n",
        "        clf = clf.fit(t_features, t_labels)\n",
        "        predictions = clf.predict(v_features)\n",
        "        count = 0\n",
        "        for i in range(len(v_labels)):\n",
        "              if v_labels[i] == predictions[i]:\n",
        "                  count += 1\n",
        "        accuracy = count / len(v_labels)\n",
        "        if accuracy > best_accuracy:\n",
        "            best_accuracy = accuracy\n",
        "            best_clf = clf\n",
        "\n",
        "    print(\"Best Training Accuracy:\", best_accuracy)\n",
        "    return best_clf\n",
        "\n",
        "classifier = train_model(training_features, training_labels, validation_features, validation_labels)"
      ],
      "execution_count": 20,
      "outputs": [
        {
          "output_type": "stream",
          "name": "stdout",
          "text": [
            "Best Training Accuracy: 0.9984520123839009\n"
          ]
        }
      ]
    },
    {
      "cell_type": "code",
      "metadata": {
        "id": "XAl_Lfc40wFg"
      },
      "source": [
        "######Use to visualise the tree if the classifier is the decision tree\n",
        "#from sklearn import tree\n",
        "#tree.plot_tree(classifier)"
      ],
      "execution_count": 21,
      "outputs": []
    },
    {
      "cell_type": "code",
      "metadata": {
        "colab": {
          "base_uri": "https://localhost:8080/"
        },
        "id": "FpK1aYXht92C",
        "outputId": "2a233c7a-d544-4f8e-99c1-c5de6b96ac18"
      },
      "source": [
        "### find out the test accuracy\n",
        "def test_accuracy(clf, t_features, t_labels):\n",
        "    count = 0\n",
        "    predictions = clf.predict(t_features)\n",
        "    t_labels_hot = t_labels\n",
        "    for i in range(len(t_features)):\n",
        "        if (type(clf) == SVC):\n",
        "            if t_labels[i] == predictions[i]:\n",
        "                count += 1\n",
        "        else:\n",
        "            if np.array_equal(t_labels_hot[i], predictions[i]):\n",
        "                count += 1\n",
        "    return count / len(t_features)\n",
        "\n",
        "print(\"TEST ACCURACY:\", test_accuracy(classifier, test_features, test_labels))"
      ],
      "execution_count": 22,
      "outputs": [
        {
          "output_type": "stream",
          "name": "stdout",
          "text": [
            "TEST ACCURACY: 0.9984520123839009\n"
          ]
        }
      ]
    },
    {
      "cell_type": "code",
      "metadata": {
        "id": "sSZmlWzCn9qq"
      },
      "source": [
        ""
      ],
      "execution_count": null,
      "outputs": []
    },
    {
      "cell_type": "code",
      "metadata": {
        "id": "xFiDtJhAn9xq"
      },
      "source": [
        ""
      ],
      "execution_count": null,
      "outputs": []
    }
  ]
}