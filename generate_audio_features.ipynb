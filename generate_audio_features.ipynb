{
  "nbformat": 4,
  "nbformat_minor": 0,
  "metadata": {
    "colab": {
      "name": "generate_audio_features.ipynb",
      "provenance": [],
      "collapsed_sections": [],
      "machine_shape": "hm"
    },
    "kernelspec": {
      "name": "python3",
      "display_name": "Python 3"
    },
    "language_info": {
      "name": "python"
    },
    "accelerator": "GPU"
  },
  "cells": [
    {
      "cell_type": "code",
      "metadata": {
        "colab": {
          "base_uri": "https://localhost:8080/"
        },
        "id": "jGigbz886YZA",
        "outputId": "438d5663-3fa3-48cc-ec7d-f3779d37b756"
      },
      "source": [
        "### mount gogle drive\n",
        "from google.colab import drive \n",
        "drive.mount('drive')"
      ],
      "execution_count": 1,
      "outputs": [
        {
          "output_type": "stream",
          "name": "stdout",
          "text": [
            "Drive already mounted at drive; to attempt to forcibly remount, call drive.mount(\"drive\", force_remount=True).\n"
          ]
        }
      ]
    },
    {
      "cell_type": "code",
      "metadata": {
        "colab": {
          "base_uri": "https://localhost:8080/"
        },
        "id": "9MRtUdoHp35A",
        "outputId": "4031ba9e-7450-4908-d07f-dc93c3bf9316"
      },
      "source": [
        "### install library\n",
        "!pip install librosa"
      ],
      "execution_count": 2,
      "outputs": [
        {
          "output_type": "stream",
          "name": "stdout",
          "text": [
            "Requirement already satisfied: librosa in /usr/local/lib/python3.7/dist-packages (0.8.1)\n",
            "Requirement already satisfied: joblib>=0.14 in /usr/local/lib/python3.7/dist-packages (from librosa) (1.1.0)\n",
            "Requirement already satisfied: resampy>=0.2.2 in /usr/local/lib/python3.7/dist-packages (from librosa) (0.2.2)\n",
            "Requirement already satisfied: decorator>=3.0.0 in /usr/local/lib/python3.7/dist-packages (from librosa) (4.4.2)\n",
            "Requirement already satisfied: packaging>=20.0 in /usr/local/lib/python3.7/dist-packages (from librosa) (21.3)\n",
            "Requirement already satisfied: pooch>=1.0 in /usr/local/lib/python3.7/dist-packages (from librosa) (1.5.2)\n",
            "Requirement already satisfied: scikit-learn!=0.19.0,>=0.14.0 in /usr/local/lib/python3.7/dist-packages (from librosa) (1.0.1)\n",
            "Requirement already satisfied: numpy>=1.15.0 in /usr/local/lib/python3.7/dist-packages (from librosa) (1.19.5)\n",
            "Requirement already satisfied: scipy>=1.0.0 in /usr/local/lib/python3.7/dist-packages (from librosa) (1.4.1)\n",
            "Requirement already satisfied: numba>=0.43.0 in /usr/local/lib/python3.7/dist-packages (from librosa) (0.51.2)\n",
            "Requirement already satisfied: soundfile>=0.10.2 in /usr/local/lib/python3.7/dist-packages (from librosa) (0.10.3.post1)\n",
            "Requirement already satisfied: audioread>=2.0.0 in /usr/local/lib/python3.7/dist-packages (from librosa) (2.1.9)\n",
            "Requirement already satisfied: llvmlite<0.35,>=0.34.0.dev0 in /usr/local/lib/python3.7/dist-packages (from numba>=0.43.0->librosa) (0.34.0)\n",
            "Requirement already satisfied: setuptools in /usr/local/lib/python3.7/dist-packages (from numba>=0.43.0->librosa) (57.4.0)\n",
            "Requirement already satisfied: pyparsing!=3.0.5,>=2.0.2 in /usr/local/lib/python3.7/dist-packages (from packaging>=20.0->librosa) (3.0.6)\n",
            "Requirement already satisfied: requests in /usr/local/lib/python3.7/dist-packages (from pooch>=1.0->librosa) (2.23.0)\n",
            "Requirement already satisfied: appdirs in /usr/local/lib/python3.7/dist-packages (from pooch>=1.0->librosa) (1.4.4)\n",
            "Requirement already satisfied: six>=1.3 in /usr/local/lib/python3.7/dist-packages (from resampy>=0.2.2->librosa) (1.15.0)\n",
            "Requirement already satisfied: threadpoolctl>=2.0.0 in /usr/local/lib/python3.7/dist-packages (from scikit-learn!=0.19.0,>=0.14.0->librosa) (3.0.0)\n",
            "Requirement already satisfied: cffi>=1.0 in /usr/local/lib/python3.7/dist-packages (from soundfile>=0.10.2->librosa) (1.15.0)\n",
            "Requirement already satisfied: pycparser in /usr/local/lib/python3.7/dist-packages (from cffi>=1.0->soundfile>=0.10.2->librosa) (2.21)\n",
            "Requirement already satisfied: chardet<4,>=3.0.2 in /usr/local/lib/python3.7/dist-packages (from requests->pooch>=1.0->librosa) (3.0.4)\n",
            "Requirement already satisfied: urllib3!=1.25.0,!=1.25.1,<1.26,>=1.21.1 in /usr/local/lib/python3.7/dist-packages (from requests->pooch>=1.0->librosa) (1.24.3)\n",
            "Requirement already satisfied: idna<3,>=2.5 in /usr/local/lib/python3.7/dist-packages (from requests->pooch>=1.0->librosa) (2.10)\n",
            "Requirement already satisfied: certifi>=2017.4.17 in /usr/local/lib/python3.7/dist-packages (from requests->pooch>=1.0->librosa) (2021.10.8)\n"
          ]
        }
      ]
    },
    {
      "cell_type": "code",
      "metadata": {
        "id": "zlvuFOa9Rqaz"
      },
      "source": [
        "### import libraries\n",
        "import sklearn\n",
        "import librosa\n",
        "%matplotlib inline\n",
        "import matplotlib.pyplot as plt\n",
        "import librosa.display\n",
        "import warnings\n",
        "warnings.filterwarnings('ignore')"
      ],
      "execution_count": 4,
      "outputs": []
    },
    {
      "cell_type": "code",
      "metadata": {
        "id": "tgbVCZ6JUHKL"
      },
      "source": [
        "### save the file paths in a list for all the wav files of both classes\n",
        "from os import listdir\n",
        "from os.path import isfile, join\n",
        "adlpath = \"/content/drive/MyDrive/music_data/wav/adl_wav/\"\n",
        "adlfiles = [adlpath+f for f in listdir(adlpath) if isfile(join(adlpath, f))]\n",
        "#print(onlyfiles)\n",
        "\n",
        "genpath = \"/content/drive/MyDrive/music_data/wav/gen_wav/\"\n",
        "genfiles = [genpath+f for f in listdir(genpath) if isfile(join(genpath, f))]\n",
        "### audio_path[46:-4] -> for drive "
      ],
      "execution_count": 5,
      "outputs": []
    },
    {
      "cell_type": "code",
      "metadata": {
        "colab": {
          "base_uri": "https://localhost:8080/",
          "height": 142
        },
        "id": "MfN9-PmFthSy",
        "outputId": "95cfd639-c57c-4aef-e1a5-f7c530ed1c59"
      },
      "source": [
        "##### MIGHT HAVE TO RUN THIS IN PARTS DUE TO RAM LIMITATIONS\n",
        "\n",
        "################### Create all three types of features for the generated midi files\n",
        "for fl in genfiles:\n",
        "  audio_path = fl\n",
        "  x , sr = librosa.load(audio_path)\n",
        "    \n",
        "  ########### CHANGE IF PATH CHANGED\n",
        "  fname = audio_path[46:-4]\n",
        "\n",
        "\n",
        "  #### SPECTROGRAM\n",
        "  X = librosa.stft(x)\n",
        "  Xdb = librosa.amplitude_to_db(abs(X))\n",
        "  plt.figure(figsize=(8, 5))\n",
        "  librosa.display.specshow(Xdb, sr=sr, x_axis='time', y_axis='log')\n",
        "  plt.savefig(\"/content/drive/MyDrive/music_data/images/spect/gen/\"+ fname  + \".jpg\")\n",
        "\n",
        "  ###### MFCC\n",
        "  mfccs = librosa.feature.mfcc(x, sr)\n",
        "  mfccss = sklearn.preprocessing.scale(mfccs, axis=1)\n",
        "  librosa.display.specshow(mfccss, sr=sr, x_axis='time')\n",
        "  plt.savefig(\"/content/drive/MyDrive/music_data/images/mfcc/gen/\"+ fname + \".jpg\")\n",
        "\n",
        "\n",
        "  #### CHROMA\n",
        "  hop_length = 512\n",
        "  chromagram = librosa.feature.chroma_stft(x, sr=sr, hop_length=hop_length)\n",
        "  librosa.display.specshow(chromagram, x_axis='time', y_axis='chroma', hop_length=hop_length, cmap='coolwarm')\n",
        "  plt.savefig(\"/content/drive/MyDrive/music_data/images/chroma/gen/\"+ fname + \".jpg\")\n",
        "      \n",
        "\n"
      ],
      "execution_count": 13,
      "outputs": [
        {
          "output_type": "execute_result",
          "data": {
            "application/vnd.google.colaboratory.intrinsic+json": {
              "type": "string"
            },
            "text/plain": [
              "'\\nfor fl in genfiles:\\n  audio_path = fl\\n  x , sr = librosa.load(audio_path)\\n    \\n  ########### CHANGE IF PATH CHANGED\\n  fname = audio_path[46:-4]\\n\\n\\n  #### spectrogram\\n  X = librosa.stft(x)\\n  Xdb = librosa.amplitude_to_db(abs(X))\\n  plt.figure(figsize=(8, 5))\\n  librosa.display.specshow(Xdb, sr=sr, x_axis=\\'time\\', y_axis=\\'log\\')\\n  plt.savefig(\"/content/drive/MyDrive/music_data/images/spect/gen/\"+ fname  + \".jpg\")\\n\\n  mfccs = librosa.feature.mfcc(x, sr)\\n  mfccss = sklearn.preprocessing.scale(mfccs, axis=1)\\n  librosa.display.specshow(mfccss, sr=sr, x_axis=\\'time\\')\\n  plt.savefig(\"/content/drive/MyDrive/music_data/images/mfcc/gen/\"+ fname + \".jpg\")\\n\\n\\n  #### CHROMA\\n  hop_length = 512\\n  chromagram = librosa.feature.chroma_stft(x, sr=sr, hop_length=hop_length)\\n  librosa.display.specshow(chromagram, x_axis=\\'time\\', y_axis=\\'chroma\\', hop_length=hop_length, cmap=\\'coolwarm\\')\\n  plt.savefig(\"/content/drive/MyDrive/music_data/images/chroma/gen/\"+ fname + \".jpg\")\\n      \\n'"
            ]
          },
          "metadata": {},
          "execution_count": 13
        }
      ]
    },
    {
      "cell_type": "code",
      "metadata": {
        "id": "FfwBoO1GdPlF"
      },
      "source": [
        "##### MIGHT HAVE TO RUN THIS IN PARTS DUE TO RAM LIMITATIONS\n",
        "\n",
        "################### Create all three types of features for the real adl midi files\n",
        "for fl in adlfiles[50:100]:\n",
        "  audio_path = fl\n",
        "  x , sr = librosa.load(audio_path)\n",
        "  \n",
        "  ######## CHANGE IF PATH IS CHANGED\n",
        "  fname = audio_path[46:-4]\n",
        "  \n",
        "  \n",
        "  #### SPECTROGRAMS\n",
        "  X = librosa.stft(x)\n",
        "  Xdb = librosa.amplitude_to_db(abs(X))\n",
        "  plt.figure(figsize=(8, 5))\n",
        "  librosa.display.specshow(Xdb, sr=sr, x_axis='time', y_axis='log')\n",
        "  plt.savefig(\"/content/drive/MyDrive/music_data/images/spect/adl/\"+ fname  + \".jpg\")\n",
        "\n",
        "  \n",
        "  \n",
        "  ####### MFCC\n",
        "  mfccs = librosa.feature.mfcc(x, sr)\n",
        "  mfccss = sklearn.preprocessing.scale(mfccs, axis=1)\n",
        "  librosa.display.specshow(mfccss, sr=sr, x_axis='time')\n",
        "  plt.savefig(\"/content/drive/MyDrive/music_data/images/mfcc/adl/\"+ fname + \".jpg\")\n",
        "\n",
        "  #### CHROMA\n",
        "  hop_length = 512\n",
        "  chromagram = librosa.feature.chroma_stft(x, sr=sr, hop_length=hop_length)\n",
        "  librosa.display.specshow(chromagram, x_axis='time', y_axis='chroma', hop_length=hop_length, cmap='coolwarm')\n",
        "  plt.savefig(\"/content/drive/MyDrive/music_data/images/chroma/adl/\"+ fname + \".jpg\")\n",
        "  "
      ],
      "execution_count": null,
      "outputs": []
    }
  ]
}